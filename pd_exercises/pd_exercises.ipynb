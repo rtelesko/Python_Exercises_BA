{
 "cells": [
  {
   "metadata": {
    "ExecuteTime": {
     "end_time": "2025-10-03T14:07:40.366981Z",
     "start_time": "2025-10-03T14:07:38.087002Z"
    }
   },
   "cell_type": "code",
   "source": [
    "import pandas as pd\n",
    "df = pd.read_csv(\"Titanic-Dataset.csv\")\n"
   ],
   "id": "31c43836812a91fb",
   "outputs": [],
   "execution_count": 2
  },
  {
   "metadata": {
    "ExecuteTime": {
     "end_time": "2025-10-03T11:49:22.703974Z",
     "start_time": "2025-10-03T11:49:22.681808Z"
    }
   },
   "cell_type": "code",
   "source": [
    "# Exercise 1\n",
    "# Number of rows of the dataframe\n",
    "len(df)\n"
   ],
   "id": "8e300a8f98751ad9",
   "outputs": [
    {
     "data": {
      "text/plain": [
       "891"
      ]
     },
     "execution_count": 3,
     "metadata": {},
     "output_type": "execute_result"
    }
   ],
   "execution_count": 3
  },
  {
   "metadata": {
    "ExecuteTime": {
     "end_time": "2025-10-03T14:07:42.925745Z",
     "start_time": "2025-10-03T14:07:42.900322Z"
    }
   },
   "cell_type": "code",
   "source": [
    "# Exercise 2\n",
    "# List all attributes of the dataset\n",
    "print(df.columns.tolist())\n",
    "print(df.info())"
   ],
   "id": "a026aab4d76ac1ab",
   "outputs": [
    {
     "name": "stdout",
     "output_type": "stream",
     "text": [
      "['PassengerId', 'Survived', 'Pclass', 'Name', 'Sex', 'Age', 'SibSp', 'Parch', 'Ticket', 'Fare', 'Cabin', 'Embarked']\n",
      "<class 'pandas.core.frame.DataFrame'>\n",
      "RangeIndex: 891 entries, 0 to 890\n",
      "Data columns (total 12 columns):\n",
      " #   Column       Non-Null Count  Dtype  \n",
      "---  ------       --------------  -----  \n",
      " 0   PassengerId  891 non-null    int64  \n",
      " 1   Survived     891 non-null    int64  \n",
      " 2   Pclass       891 non-null    int64  \n",
      " 3   Name         891 non-null    object \n",
      " 4   Sex          891 non-null    object \n",
      " 5   Age          714 non-null    float64\n",
      " 6   SibSp        891 non-null    int64  \n",
      " 7   Parch        891 non-null    int64  \n",
      " 8   Ticket       891 non-null    object \n",
      " 9   Fare         891 non-null    float64\n",
      " 10  Cabin        204 non-null    object \n",
      " 11  Embarked     889 non-null    object \n",
      "dtypes: float64(2), int64(5), object(5)\n",
      "memory usage: 83.7+ KB\n",
      "None\n"
     ]
    }
   ],
   "execution_count": 3
  },
  {
   "metadata": {
    "ExecuteTime": {
     "end_time": "2025-10-03T12:00:46.730517Z",
     "start_time": "2025-10-03T12:00:46.716781Z"
    }
   },
   "cell_type": "code",
   "source": [
    "# Exercise 3\n",
    "# Age of youngest passenger\n",
    "df['Age'].min(skipna=True)"
   ],
   "id": "12fb2c09c1159e52",
   "outputs": [
    {
     "data": {
      "text/plain": [
       "np.float64(0.42)"
      ]
     },
     "execution_count": 10,
     "metadata": {},
     "output_type": "execute_result"
    }
   ],
   "execution_count": 10
  },
  {
   "metadata": {
    "ExecuteTime": {
     "end_time": "2025-10-03T12:01:32.500532Z",
     "start_time": "2025-10-03T12:01:32.493727Z"
    }
   },
   "cell_type": "code",
   "source": [
    "# Exercise 4\n",
    "# Age of oldest passenger\n",
    "df['Age'].max(skipna=True)"
   ],
   "id": "1920821090aa3500",
   "outputs": [
    {
     "data": {
      "text/plain": [
       "np.float64(80.0)"
      ]
     },
     "execution_count": 11,
     "metadata": {},
     "output_type": "execute_result"
    }
   ],
   "execution_count": 11
  },
  {
   "metadata": {
    "ExecuteTime": {
     "end_time": "2025-10-03T12:02:53.332686Z",
     "start_time": "2025-10-03T12:02:53.323376Z"
    }
   },
   "cell_type": "code",
   "source": [
    "# Exercise 5\n",
    "# Average age of all passengers (rounded to 2 decimal places)\n",
    "round(df['Age'].mean(skipna=True), 2)"
   ],
   "id": "cbeb4e1f9f6b27d5",
   "outputs": [
    {
     "data": {
      "text/plain": [
       "np.float64(29.7)"
      ]
     },
     "execution_count": 13,
     "metadata": {},
     "output_type": "execute_result"
    }
   ],
   "execution_count": 13
  },
  {
   "metadata": {
    "ExecuteTime": {
     "end_time": "2025-10-03T12:03:48.372747Z",
     "start_time": "2025-10-03T12:03:48.358862Z"
    }
   },
   "cell_type": "code",
   "source": [
    "# Exercise 6\n",
    "# Fare which was paid most often (mode).\n",
    "df['Fare'].mode(dropna=True)\n"
   ],
   "id": "3e6cd9a8de31ac0",
   "outputs": [
    {
     "data": {
      "text/plain": [
       "0    8.05\n",
       "Name: Fare, dtype: float64"
      ]
     },
     "execution_count": 14,
     "metadata": {},
     "output_type": "execute_result"
    }
   ],
   "execution_count": 14
  },
  {
   "metadata": {
    "ExecuteTime": {
     "end_time": "2025-10-03T12:08:33.458566Z",
     "start_time": "2025-10-03T12:08:33.447084Z"
    }
   },
   "cell_type": "code",
   "source": [
    "# Exercise 7\n",
    "# Names and ages of the passengers older than 70 years\n",
    "# Number of the passengers older than 70 years\n",
    "older_70 = df.loc[df['Age'] > 70, ['Name','Age']]\n",
    "count_older_70 = len(older_70)\n",
    "print(\"Count older than 70:\", count_older_70)\n",
    "older_70"
   ],
   "id": "78808a7855679f64",
   "outputs": [
    {
     "name": "stdout",
     "output_type": "stream",
     "text": [
      "Count older than 70: 5\n"
     ]
    },
    {
     "data": {
      "text/plain": [
       "                                     Name   Age\n",
       "96              Goldschmidt, Mr. George B  71.0\n",
       "116                  Connors, Mr. Patrick  70.5\n",
       "493               Artagaveytia, Mr. Ramon  71.0\n",
       "630  Barkworth, Mr. Algernon Henry Wilson  80.0\n",
       "851                   Svensson, Mr. Johan  74.0"
      ],
      "text/html": [
       "<div>\n",
       "<style scoped>\n",
       "    .dataframe tbody tr th:only-of-type {\n",
       "        vertical-align: middle;\n",
       "    }\n",
       "\n",
       "    .dataframe tbody tr th {\n",
       "        vertical-align: top;\n",
       "    }\n",
       "\n",
       "    .dataframe thead th {\n",
       "        text-align: right;\n",
       "    }\n",
       "</style>\n",
       "<table border=\"1\" class=\"dataframe\">\n",
       "  <thead>\n",
       "    <tr style=\"text-align: right;\">\n",
       "      <th></th>\n",
       "      <th>Name</th>\n",
       "      <th>Age</th>\n",
       "    </tr>\n",
       "  </thead>\n",
       "  <tbody>\n",
       "    <tr>\n",
       "      <th>96</th>\n",
       "      <td>Goldschmidt, Mr. George B</td>\n",
       "      <td>71.0</td>\n",
       "    </tr>\n",
       "    <tr>\n",
       "      <th>116</th>\n",
       "      <td>Connors, Mr. Patrick</td>\n",
       "      <td>70.5</td>\n",
       "    </tr>\n",
       "    <tr>\n",
       "      <th>493</th>\n",
       "      <td>Artagaveytia, Mr. Ramon</td>\n",
       "      <td>71.0</td>\n",
       "    </tr>\n",
       "    <tr>\n",
       "      <th>630</th>\n",
       "      <td>Barkworth, Mr. Algernon Henry Wilson</td>\n",
       "      <td>80.0</td>\n",
       "    </tr>\n",
       "    <tr>\n",
       "      <th>851</th>\n",
       "      <td>Svensson, Mr. Johan</td>\n",
       "      <td>74.0</td>\n",
       "    </tr>\n",
       "  </tbody>\n",
       "</table>\n",
       "</div>"
      ]
     },
     "execution_count": 18,
     "metadata": {},
     "output_type": "execute_result"
    }
   ],
   "execution_count": 18
  },
  {
   "metadata": {
    "ExecuteTime": {
     "end_time": "2025-10-03T12:11:06.297526Z",
     "start_time": "2025-10-03T12:11:06.280718Z"
    }
   },
   "cell_type": "code",
   "source": [
    "# Exercise 8\n",
    "# Names and ages of the passengers older than 70 years sorted by name in ascending order\n",
    "older_70 = df.loc[df['Age'] > 70, ['Name','Age']]\n",
    "\n",
    "# Sort by name ascending\n",
    "older_passengers = older_70.sort_values(by=\"Name\", ascending=True)\n",
    "older_passengers"
   ],
   "id": "845857bed7069350",
   "outputs": [
    {
     "data": {
      "text/plain": [
       "                                     Name   Age\n",
       "493               Artagaveytia, Mr. Ramon  71.0\n",
       "630  Barkworth, Mr. Algernon Henry Wilson  80.0\n",
       "116                  Connors, Mr. Patrick  70.5\n",
       "96              Goldschmidt, Mr. George B  71.0\n",
       "851                   Svensson, Mr. Johan  74.0"
      ],
      "text/html": [
       "<div>\n",
       "<style scoped>\n",
       "    .dataframe tbody tr th:only-of-type {\n",
       "        vertical-align: middle;\n",
       "    }\n",
       "\n",
       "    .dataframe tbody tr th {\n",
       "        vertical-align: top;\n",
       "    }\n",
       "\n",
       "    .dataframe thead th {\n",
       "        text-align: right;\n",
       "    }\n",
       "</style>\n",
       "<table border=\"1\" class=\"dataframe\">\n",
       "  <thead>\n",
       "    <tr style=\"text-align: right;\">\n",
       "      <th></th>\n",
       "      <th>Name</th>\n",
       "      <th>Age</th>\n",
       "    </tr>\n",
       "  </thead>\n",
       "  <tbody>\n",
       "    <tr>\n",
       "      <th>493</th>\n",
       "      <td>Artagaveytia, Mr. Ramon</td>\n",
       "      <td>71.0</td>\n",
       "    </tr>\n",
       "    <tr>\n",
       "      <th>630</th>\n",
       "      <td>Barkworth, Mr. Algernon Henry Wilson</td>\n",
       "      <td>80.0</td>\n",
       "    </tr>\n",
       "    <tr>\n",
       "      <th>116</th>\n",
       "      <td>Connors, Mr. Patrick</td>\n",
       "      <td>70.5</td>\n",
       "    </tr>\n",
       "    <tr>\n",
       "      <th>96</th>\n",
       "      <td>Goldschmidt, Mr. George B</td>\n",
       "      <td>71.0</td>\n",
       "    </tr>\n",
       "    <tr>\n",
       "      <th>851</th>\n",
       "      <td>Svensson, Mr. Johan</td>\n",
       "      <td>74.0</td>\n",
       "    </tr>\n",
       "  </tbody>\n",
       "</table>\n",
       "</div>"
      ]
     },
     "execution_count": 20,
     "metadata": {},
     "output_type": "execute_result"
    }
   ],
   "execution_count": 20
  },
  {
   "metadata": {
    "ExecuteTime": {
     "end_time": "2025-10-03T12:22:56.879185Z",
     "start_time": "2025-10-03T12:22:56.867693Z"
    }
   },
   "cell_type": "code",
   "source": [
    "# Exercise 9\n",
    "# PassengerId and Name of all male passengers embarking from Southhampton (abbreviation 'S')\n",
    "print(df[\"Sex\"].unique())\n",
    "print(df['Embarked'].unique())\n",
    "male_s = df[(df['Sex'] == 'male') & (df['Embarked'] == 'S')]\n",
    "male_s[['PassengerId','Name']]"
   ],
   "id": "4855e053b18ddfc5",
   "outputs": [
    {
     "name": "stdout",
     "output_type": "stream",
     "text": [
      "['male' 'female']\n",
      "['S' 'C' 'Q' nan]\n"
     ]
    },
    {
     "data": {
      "text/plain": [
       "     PassengerId                            Name\n",
       "0              1         Braund, Mr. Owen Harris\n",
       "4              5        Allen, Mr. William Henry\n",
       "6              7         McCarthy, Mr. Timothy J\n",
       "7              8  Palsson, Master. Gosta Leonard\n",
       "12            13  Saundercock, Mr. William Henry\n",
       "..           ...                             ...\n",
       "878          879              Laleff, Mr. Kristo\n",
       "881          882              Markun, Mr. Johann\n",
       "883          884   Banfield, Mr. Frederick James\n",
       "884          885          Sutehall, Mr. Henry Jr\n",
       "886          887           Montvila, Rev. Juozas\n",
       "\n",
       "[441 rows x 2 columns]"
      ],
      "text/html": [
       "<div>\n",
       "<style scoped>\n",
       "    .dataframe tbody tr th:only-of-type {\n",
       "        vertical-align: middle;\n",
       "    }\n",
       "\n",
       "    .dataframe tbody tr th {\n",
       "        vertical-align: top;\n",
       "    }\n",
       "\n",
       "    .dataframe thead th {\n",
       "        text-align: right;\n",
       "    }\n",
       "</style>\n",
       "<table border=\"1\" class=\"dataframe\">\n",
       "  <thead>\n",
       "    <tr style=\"text-align: right;\">\n",
       "      <th></th>\n",
       "      <th>PassengerId</th>\n",
       "      <th>Name</th>\n",
       "    </tr>\n",
       "  </thead>\n",
       "  <tbody>\n",
       "    <tr>\n",
       "      <th>0</th>\n",
       "      <td>1</td>\n",
       "      <td>Braund, Mr. Owen Harris</td>\n",
       "    </tr>\n",
       "    <tr>\n",
       "      <th>4</th>\n",
       "      <td>5</td>\n",
       "      <td>Allen, Mr. William Henry</td>\n",
       "    </tr>\n",
       "    <tr>\n",
       "      <th>6</th>\n",
       "      <td>7</td>\n",
       "      <td>McCarthy, Mr. Timothy J</td>\n",
       "    </tr>\n",
       "    <tr>\n",
       "      <th>7</th>\n",
       "      <td>8</td>\n",
       "      <td>Palsson, Master. Gosta Leonard</td>\n",
       "    </tr>\n",
       "    <tr>\n",
       "      <th>12</th>\n",
       "      <td>13</td>\n",
       "      <td>Saundercock, Mr. William Henry</td>\n",
       "    </tr>\n",
       "    <tr>\n",
       "      <th>...</th>\n",
       "      <td>...</td>\n",
       "      <td>...</td>\n",
       "    </tr>\n",
       "    <tr>\n",
       "      <th>878</th>\n",
       "      <td>879</td>\n",
       "      <td>Laleff, Mr. Kristo</td>\n",
       "    </tr>\n",
       "    <tr>\n",
       "      <th>881</th>\n",
       "      <td>882</td>\n",
       "      <td>Markun, Mr. Johann</td>\n",
       "    </tr>\n",
       "    <tr>\n",
       "      <th>883</th>\n",
       "      <td>884</td>\n",
       "      <td>Banfield, Mr. Frederick James</td>\n",
       "    </tr>\n",
       "    <tr>\n",
       "      <th>884</th>\n",
       "      <td>885</td>\n",
       "      <td>Sutehall, Mr. Henry Jr</td>\n",
       "    </tr>\n",
       "    <tr>\n",
       "      <th>886</th>\n",
       "      <td>887</td>\n",
       "      <td>Montvila, Rev. Juozas</td>\n",
       "    </tr>\n",
       "  </tbody>\n",
       "</table>\n",
       "<p>441 rows × 2 columns</p>\n",
       "</div>"
      ]
     },
     "execution_count": 33,
     "metadata": {},
     "output_type": "execute_result"
    }
   ],
   "execution_count": 33
  },
  {
   "metadata": {
    "ExecuteTime": {
     "end_time": "2025-10-03T12:22:42.790835Z",
     "start_time": "2025-10-03T12:22:42.771289Z"
    }
   },
   "cell_type": "code",
   "source": [
    "# Exercise 10\n",
    "# Like exercise 9, only the first 20\n",
    "male_s[['PassengerId','Name']].head(20)\n",
    "\n"
   ],
   "id": "d0a3bcab17682c5f",
   "outputs": [
    {
     "data": {
      "text/plain": [
       "    PassengerId                                Name\n",
       "0             1             Braund, Mr. Owen Harris\n",
       "4             5            Allen, Mr. William Henry\n",
       "6             7             McCarthy, Mr. Timothy J\n",
       "7             8      Palsson, Master. Gosta Leonard\n",
       "12           13      Saundercock, Mr. William Henry\n",
       "13           14         Andersson, Mr. Anders Johan\n",
       "17           18        Williams, Mr. Charles Eugene\n",
       "20           21                Fynney, Mr. Joseph J\n",
       "21           22               Beesley, Mr. Lawrence\n",
       "23           24        Sloper, Mr. William Thompson\n",
       "27           28      Fortune, Mr. Charles Alexander\n",
       "29           30                 Todoroff, Mr. Lalio\n",
       "33           34               Wheadon, Mr. Edward H\n",
       "35           36      Holverson, Mr. Alexander Oskar\n",
       "37           38            Cann, Mr. Ernest Charles\n",
       "45           46            Rogers, Mr. William John\n",
       "50           51          Panula, Master. Juha Niilo\n",
       "51           52        Nosworthy, Mr. Richard Cater\n",
       "55           56                   Woolner, Mr. Hugh\n",
       "59           60  Goodwin, Master. William Frederick"
      ],
      "text/html": [
       "<div>\n",
       "<style scoped>\n",
       "    .dataframe tbody tr th:only-of-type {\n",
       "        vertical-align: middle;\n",
       "    }\n",
       "\n",
       "    .dataframe tbody tr th {\n",
       "        vertical-align: top;\n",
       "    }\n",
       "\n",
       "    .dataframe thead th {\n",
       "        text-align: right;\n",
       "    }\n",
       "</style>\n",
       "<table border=\"1\" class=\"dataframe\">\n",
       "  <thead>\n",
       "    <tr style=\"text-align: right;\">\n",
       "      <th></th>\n",
       "      <th>PassengerId</th>\n",
       "      <th>Name</th>\n",
       "    </tr>\n",
       "  </thead>\n",
       "  <tbody>\n",
       "    <tr>\n",
       "      <th>0</th>\n",
       "      <td>1</td>\n",
       "      <td>Braund, Mr. Owen Harris</td>\n",
       "    </tr>\n",
       "    <tr>\n",
       "      <th>4</th>\n",
       "      <td>5</td>\n",
       "      <td>Allen, Mr. William Henry</td>\n",
       "    </tr>\n",
       "    <tr>\n",
       "      <th>6</th>\n",
       "      <td>7</td>\n",
       "      <td>McCarthy, Mr. Timothy J</td>\n",
       "    </tr>\n",
       "    <tr>\n",
       "      <th>7</th>\n",
       "      <td>8</td>\n",
       "      <td>Palsson, Master. Gosta Leonard</td>\n",
       "    </tr>\n",
       "    <tr>\n",
       "      <th>12</th>\n",
       "      <td>13</td>\n",
       "      <td>Saundercock, Mr. William Henry</td>\n",
       "    </tr>\n",
       "    <tr>\n",
       "      <th>13</th>\n",
       "      <td>14</td>\n",
       "      <td>Andersson, Mr. Anders Johan</td>\n",
       "    </tr>\n",
       "    <tr>\n",
       "      <th>17</th>\n",
       "      <td>18</td>\n",
       "      <td>Williams, Mr. Charles Eugene</td>\n",
       "    </tr>\n",
       "    <tr>\n",
       "      <th>20</th>\n",
       "      <td>21</td>\n",
       "      <td>Fynney, Mr. Joseph J</td>\n",
       "    </tr>\n",
       "    <tr>\n",
       "      <th>21</th>\n",
       "      <td>22</td>\n",
       "      <td>Beesley, Mr. Lawrence</td>\n",
       "    </tr>\n",
       "    <tr>\n",
       "      <th>23</th>\n",
       "      <td>24</td>\n",
       "      <td>Sloper, Mr. William Thompson</td>\n",
       "    </tr>\n",
       "    <tr>\n",
       "      <th>27</th>\n",
       "      <td>28</td>\n",
       "      <td>Fortune, Mr. Charles Alexander</td>\n",
       "    </tr>\n",
       "    <tr>\n",
       "      <th>29</th>\n",
       "      <td>30</td>\n",
       "      <td>Todoroff, Mr. Lalio</td>\n",
       "    </tr>\n",
       "    <tr>\n",
       "      <th>33</th>\n",
       "      <td>34</td>\n",
       "      <td>Wheadon, Mr. Edward H</td>\n",
       "    </tr>\n",
       "    <tr>\n",
       "      <th>35</th>\n",
       "      <td>36</td>\n",
       "      <td>Holverson, Mr. Alexander Oskar</td>\n",
       "    </tr>\n",
       "    <tr>\n",
       "      <th>37</th>\n",
       "      <td>38</td>\n",
       "      <td>Cann, Mr. Ernest Charles</td>\n",
       "    </tr>\n",
       "    <tr>\n",
       "      <th>45</th>\n",
       "      <td>46</td>\n",
       "      <td>Rogers, Mr. William John</td>\n",
       "    </tr>\n",
       "    <tr>\n",
       "      <th>50</th>\n",
       "      <td>51</td>\n",
       "      <td>Panula, Master. Juha Niilo</td>\n",
       "    </tr>\n",
       "    <tr>\n",
       "      <th>51</th>\n",
       "      <td>52</td>\n",
       "      <td>Nosworthy, Mr. Richard Cater</td>\n",
       "    </tr>\n",
       "    <tr>\n",
       "      <th>55</th>\n",
       "      <td>56</td>\n",
       "      <td>Woolner, Mr. Hugh</td>\n",
       "    </tr>\n",
       "    <tr>\n",
       "      <th>59</th>\n",
       "      <td>60</td>\n",
       "      <td>Goodwin, Master. William Frederick</td>\n",
       "    </tr>\n",
       "  </tbody>\n",
       "</table>\n",
       "</div>"
      ]
     },
     "execution_count": 32,
     "metadata": {},
     "output_type": "execute_result"
    }
   ],
   "execution_count": 32
  },
  {
   "metadata": {
    "ExecuteTime": {
     "end_time": "2025-10-03T12:30:50.303125Z",
     "start_time": "2025-10-03T12:30:50.294495Z"
    }
   },
   "cell_type": "code",
   "source": [
    "# Exercise 11\n",
    "# Find the name, age, sex, survival status of the oldest passenger who survived\n",
    "survivors = df[df['Survived'] == 1]\n",
    "# df[\"Age\"].max()        # gives 80.0 (the oldest age)\n",
    "# df[\"Age\"].idxmax()     # gives 630 (the row index of that passenger)\n",
    "oldest_survivor = survivors.loc[survivors['Age'].idxmax()]\n",
    "oldest_survivor[['Name','Age','Sex','Survived']]"
   ],
   "id": "90b7e7f315205a26",
   "outputs": [
    {
     "data": {
      "text/plain": [
       "Name        Barkworth, Mr. Algernon Henry Wilson\n",
       "Age                                         80.0\n",
       "Sex                                         male\n",
       "Survived                                       1\n",
       "Name: 630, dtype: object"
      ]
     },
     "execution_count": 37,
     "metadata": {},
     "output_type": "execute_result"
    }
   ],
   "execution_count": 37
  },
  {
   "metadata": {
    "ExecuteTime": {
     "end_time": "2025-10-03T12:34:30.904419Z",
     "start_time": "2025-10-03T12:34:30.894895Z"
    }
   },
   "cell_type": "code",
   "source": [
    "# Exercise 12\n",
    "# What is the total number of passengers from each class who survived?\n",
    "# Returns counts of survivors per Pclass\n",
    "# 1 = 1st Class → Upper-class (wealthy, luxury cabins)\n",
    "# 2 = 2nd Class → Middle-class (comfortable, but not luxury)\n",
    "# 3 = 3rd Class → Lower-class (steerage, least expensive tickets)\n",
    "survivors_by_class = df[df['Survived']==1].groupby('Pclass').size().rename('SurvivorCount')\n",
    "survivors_by_class\n"
   ],
   "id": "3e937e6b885067d9",
   "outputs": [
    {
     "data": {
      "text/plain": [
       "Pclass\n",
       "1    136\n",
       "2     87\n",
       "3    119\n",
       "Name: SurvivorCount, dtype: int64"
      ]
     },
     "execution_count": 42,
     "metadata": {},
     "output_type": "execute_result"
    }
   ],
   "execution_count": 42
  },
  {
   "metadata": {
    "ExecuteTime": {
     "end_time": "2025-10-03T12:38:06.252840Z",
     "start_time": "2025-10-03T12:38:06.228490Z"
    }
   },
   "cell_type": "code",
   "source": [
    "# Exercise 13\n",
    "# What was the average fare for male vs female passengers from each embarkment harbor?\n",
    "avg_fare_by_embark_sex = df.groupby([\"Embarked\", \"Sex\"])[\"Fare\"].mean()\n",
    "avg_fare_by_embark_sex"
   ],
   "id": "b511bd7fb200e076",
   "outputs": [
    {
     "data": {
      "text/plain": [
       "Embarked  Sex   \n",
       "C         female    75.169805\n",
       "          male      48.262109\n",
       "Q         female    12.634958\n",
       "          male      13.838922\n",
       "S         female    38.740929\n",
       "          male      21.711996\n",
       "Name: Fare, dtype: float64"
      ]
     },
     "execution_count": 44,
     "metadata": {},
     "output_type": "execute_result"
    }
   ],
   "execution_count": 44
  },
  {
   "metadata": {
    "ExecuteTime": {
     "end_time": "2025-10-03T12:52:34.843193Z",
     "start_time": "2025-10-03T12:52:34.822398Z"
    }
   },
   "cell_type": "code",
   "source": [
    "# Exercise 14\n",
    "# What was the average age for each Passenger class (rounded to one decimal point)?\n",
    "avg_age_by_pclass = df.groupby('Pclass')['Age'].mean().round(1)\n",
    "avg_age_by_pclass"
   ],
   "id": "b51fad36553bee9f",
   "outputs": [
    {
     "data": {
      "text/plain": [
       "Pclass\n",
       "1    38.2\n",
       "2    29.9\n",
       "3    25.1\n",
       "Name: Age, dtype: float64"
      ]
     },
     "execution_count": 54,
     "metadata": {},
     "output_type": "execute_result"
    }
   ],
   "execution_count": 54
  },
  {
   "metadata": {
    "ExecuteTime": {
     "end_time": "2025-10-03T12:48:01.240228Z",
     "start_time": "2025-10-03T12:48:01.229196Z"
    }
   },
   "cell_type": "code",
   "source": [
    "# Exercise 15\n",
    "# Filter with .query(), take first 20, and select their names\n",
    "young_passengers = df.query(\"Age < 20\").head(20)[\"Name\"]\n",
    "print(young_passengers.tolist())"
   ],
   "id": "41c2409f25631e56",
   "outputs": [
    {
     "name": "stdout",
     "output_type": "stream",
     "text": [
      "['Palsson, Master. Gosta Leonard', 'Nasser, Mrs. Nicholas (Adele Achem)', 'Sandstrom, Miss. Marguerite Rut', 'Vestrom, Miss. Hulda Amanda Adolfina', 'Rice, Master. Eugene', 'McGowan, Miss. Anna \"Annie\"', 'Palsson, Miss. Torborg Danira', 'Fortune, Mr. Charles Alexander', 'Vander Planke, Miss. Augusta Maria', 'Nicola-Yarred, Miss. Jamila', 'Laroche, Miss. Simonne Marie Anne Andree', 'Devaney, Miss. Margaret Delia', 'Arnold-Franchi, Mrs. Josef (Josefine Franchi)', 'Panula, Master. Juha Niilo', 'West, Miss. Constance Mirium', 'Goodwin, Master. William Frederick', 'Skoog, Master. Harald', 'Crease, Mr. Ernest James', 'Andersson, Miss. Erna Alexandra', 'Goodwin, Miss. Lillian Amy']\n"
     ]
    }
   ],
   "execution_count": 51
  },
  {
   "metadata": {
    "ExecuteTime": {
     "end_time": "2025-10-03T12:55:05.379418Z",
     "start_time": "2025-10-03T12:55:05.365936Z"
    }
   },
   "cell_type": "code",
   "source": [
    "# Example 16:\n",
    "# For each passenger class (Pclass), calculate average age, minimum age,\n",
    "# and maximum fare\n",
    "result = df.groupby(\"Pclass\").agg(\n",
    "    avg_age=(\"Age\", \"mean\"),\n",
    "    min_age=(\"Age\", \"min\"),\n",
    "    max_fare=(\"Fare\", \"max\")\n",
    ")\n",
    "print(result)"
   ],
   "id": "487e4eb1443ad735",
   "outputs": [
    {
     "name": "stdout",
     "output_type": "stream",
     "text": [
      "          avg_age  min_age  max_fare\n",
      "Pclass                              \n",
      "1       38.233441     0.92  512.3292\n",
      "2       29.877630     0.67   73.5000\n",
      "3       25.140620     0.42   69.5500\n"
     ]
    }
   ],
   "execution_count": 59
  },
  {
   "metadata": {
    "ExecuteTime": {
     "end_time": "2025-10-03T13:12:35.720874Z",
     "start_time": "2025-10-03T13:12:35.715868Z"
    }
   },
   "cell_type": "code",
   "source": "import matplotlib.pyplot as plt",
   "id": "d9766bf53bd94753",
   "outputs": [],
   "execution_count": 74
  },
  {
   "metadata": {
    "ExecuteTime": {
     "end_time": "2025-10-03T13:24:37.734180Z",
     "start_time": "2025-10-03T13:24:37.618704Z"
    }
   },
   "cell_type": "code",
   "source": [
    "# Exercise 17: Histogram of age distribution\n",
    "df[\"Age\"].dropna().plot.hist(bins=20, color=\"green\", rwidth=0.8)\n",
    "# dropna() is removing missing values (NaN) from the data\n",
    "plt.title(\"Age Distribution\")\n",
    "plt.xlabel(\"Age\")\n",
    "plt.ylabel(\"Count\")"
   ],
   "id": "86fee0c7ab6f8e21",
   "outputs": [
    {
     "data": {
      "text/plain": [
       "Text(0, 0.5, 'Count')"
      ]
     },
     "execution_count": 84,
     "metadata": {},
     "output_type": "execute_result"
    },
    {
     "data": {
      "text/plain": [
       "<Figure size 640x480 with 1 Axes>"
      ],
      "image/png": "[encoded data removed]"
     },
     "metadata": {},
     "output_type": "display_data"
    }
   ],
   "execution_count": 84
  },
  {
   "metadata": {
    "ExecuteTime": {
     "end_time": "2025-10-03T13:24:43.183154Z",
     "start_time": "2025-10-03T13:24:43.086998Z"
    }
   },
   "cell_type": "code",
   "source": [
    "# Filter only female passengers\n",
    "# female_ages = df.loc[df[\"Sex\"] == \"female\", \"Age\"].dropna().plot.hist(bins=20, color=\"green\")\n",
    "female_ages = df.loc[df[\"Sex\"] == \"female\", \"Age\"].dropna()\n",
    "female_ages.plot.hist(bins=20, color=\"yellow\", rwidth=0.8)\n",
    "# dropna() is removing missing values (NaN) from the data\n",
    "plt.title(\"Age Distribution\")\n",
    "plt.xlabel(\"Age\")\n",
    "plt.ylabel(\"Count\")"
   ],
   "id": "5fe094f52a202e94",
   "outputs": [
    {
     "data": {
      "text/plain": [
       "Text(0, 0.5, 'Count')"
      ]
     },
     "execution_count": 85,
     "metadata": {},
     "output_type": "execute_result"
    },
    {
     "data": {
      "text/plain": [
       "<Figure size 640x480 with 1 Axes>"
      ],
      "image/png": "[encoded data removed]"
     },
     "metadata": {},
     "output_type": "display_data"
    }
   ],
   "execution_count": 85
  },
  {
   "metadata": {
    "ExecuteTime": {
     "end_time": "2025-10-03T13:40:51.067690Z",
     "start_time": "2025-10-03T13:40:51.007357Z"
    }
   },
   "cell_type": "code",
   "source": [
    "surv_counts = df[\"Survived\"].value_counts()\n",
    "\n",
    "# Value counts:\n",
    "# The result is a pandas Series where\n",
    "# The index = the unique values\n",
    "# The values = the counts (how many times each appears)\n",
    "\n",
    "# Plot bars individually with labels\n",
    "plt.bar(0, surv_counts.loc[0], color=\"red\", label=\"Died\")\n",
    "plt.bar(1, surv_counts.loc[1], color=\"green\", label=\"Survived\")\n",
    "\n",
    "plt.title(\"Survival Counts\")\n",
    "plt.xticks([0, 1], [\"Died\", \"Survived\"])  # cleaner x-axis labels\n",
    "plt.ylabel(\"Count\")\n",
    "plt.legend()\n",
    "\n",
    "plt.show()"
   ],
   "id": "36937863dad71332",
   "outputs": [
    {
     "data": {
      "text/plain": [
       "<Figure size 640x480 with 1 Axes>"
      ],
      "image/png": "[encoded data removed]"
     },
     "metadata": {},
     "output_type": "display_data"
    }
   ],
   "execution_count": 105
  },
  {
   "metadata": {
    "ExecuteTime": {
     "end_time": "2025-10-03T13:50:18.503452Z",
     "start_time": "2025-10-03T13:50:18.447698Z"
    }
   },
   "cell_type": "code",
   "source": [
    "# Count passengers by embarkation port\n",
    "embarked_counts = df[\"Embarked\"].value_counts()\n",
    "\n",
    "# Make a pie chart\n",
    "plt.pie(\n",
    "    embarked_counts,\n",
    "    labels=embarked_counts.index,      # C = Cherbourg, Q = Queenstown, S = Southampton\n",
    "    autopct='%1.1f%%',                 # Show percentages\n",
    "    startangle=90,                     # Rotate for better layout\n",
    "    colors=[\"red\", \"green\", \"blue\"]\n",
    ")\n",
    "\n",
    "plt.title(\"Passenger Distribution by Embarkation Port\")\n",
    "plt.show()\n"
   ],
   "id": "84d08e8799912ee5",
   "outputs": [
    {
     "data": {
      "text/plain": [
       "<Figure size 640x480 with 1 Axes>"
      ],
      "image/png": "[encoded data removed]"
     },
     "metadata": {},
     "output_type": "display_data"
    }
   ],
   "execution_count": 109
  }
 ],
 "metadata": {
  "kernelspec": {
   "display_name": "Python 3",
   "language": "python",
   "name": "python3"
  },
  "language_info": {
   "codemirror_mode": {
    "name": "ipython",
    "version": 2
   },
   "file_extension": ".py",
   "mimetype": "text/x-python",
   "name": "python",
   "nbconvert_exporter": "python",
   "pygments_lexer": "ipython2",
   "version": "2.7.6"
  }
 },
 "nbformat": 4,
 "nbformat_minor": 5
}
